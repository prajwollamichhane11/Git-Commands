{
  "nbformat": 4,
  "nbformat_minor": 0,
  "metadata": {
    "colab": {
      "name": "Onsite Session Tasks - Oct 16.ipynb",
      "provenance": [],
      "collapsed_sections": [],
      "include_colab_link": true
    },
    "kernelspec": {
      "name": "python3",
      "display_name": "Python 3"
    }
  },
  "cells": [
    {
      "cell_type": "markdown",
      "metadata": {
        "id": "view-in-github",
        "colab_type": "text"
      },
      "source": [
        "<a href=\"https://colab.research.google.com/github/prajwollamichhane11/Git-Commands/blob/master/Onsite_Session_Tasks_Oct_16.ipynb\" target=\"_parent\"><img src=\"https://colab.research.google.com/assets/colab-badge.svg\" alt=\"Open In Colab\"/></a>"
      ]
    },
    {
      "cell_type": "markdown",
      "metadata": {
        "id": "1RFaz26VvrTt",
        "colab_type": "text"
      },
      "source": [
        "# Numpy Tasks"
      ]
    },
    {
      "cell_type": "code",
      "metadata": {
        "id": "Hldf27V6u3Cy",
        "colab_type": "code",
        "colab": {}
      },
      "source": [
        "import numpy as np"
      ],
      "execution_count": 0,
      "outputs": []
    },
    {
      "cell_type": "markdown",
      "metadata": {
        "id": "cLA803DUwR78",
        "colab_type": "text"
      },
      "source": [
        "## Task 1: Normal Equation"
      ]
    },
    {
      "cell_type": "markdown",
      "metadata": {
        "id": "P3P0uPr8wgZ-",
        "colab_type": "text"
      },
      "source": [
        "### 1.1 Generate a `4x4` matrix.\n",
        "\n",
        "Use random seed: `42`"
      ]
    },
    {
      "cell_type": "code",
      "metadata": {
        "id": "SbWzx7CuwYNC",
        "colab_type": "code",
        "colab": {
          "base_uri": "https://localhost:8080/",
          "height": 90
        },
        "outputId": "1d5db242-a2f1-4e42-f881-90b82e1833f8"
      },
      "source": [
        "np.random.seed(42)\n",
        "x = np.random.random((4,4))\n",
        "x"
      ],
      "execution_count": 3,
      "outputs": [
        {
          "output_type": "execute_result",
          "data": {
            "text/plain": [
              "array([[0.37454012, 0.95071431, 0.73199394, 0.59865848],\n",
              "       [0.15601864, 0.15599452, 0.05808361, 0.86617615],\n",
              "       [0.60111501, 0.70807258, 0.02058449, 0.96990985],\n",
              "       [0.83244264, 0.21233911, 0.18182497, 0.18340451]])"
            ]
          },
          "metadata": {
            "tags": []
          },
          "execution_count": 3
        }
      ]
    },
    {
      "cell_type": "markdown",
      "metadata": {
        "id": "wtkOoxXjwqLw",
        "colab_type": "text"
      },
      "source": [
        "### 1.2 Slice out X and y\n",
        "\n",
        "X is the first three columns, y is the last column"
      ]
    },
    {
      "cell_type": "code",
      "metadata": {
        "id": "Ep1C70-kwxqB",
        "colab_type": "code",
        "colab": {
          "base_uri": "https://localhost:8080/",
          "height": 90
        },
        "outputId": "74eaff41-396b-4071-af95-4750088a3352"
      },
      "source": [
        "X = x[:,:3]\n",
        "X"
      ],
      "execution_count": 4,
      "outputs": [
        {
          "output_type": "execute_result",
          "data": {
            "text/plain": [
              "array([[0.37454012, 0.95071431, 0.73199394],\n",
              "       [0.15601864, 0.15599452, 0.05808361],\n",
              "       [0.60111501, 0.70807258, 0.02058449],\n",
              "       [0.83244264, 0.21233911, 0.18182497]])"
            ]
          },
          "metadata": {
            "tags": []
          },
          "execution_count": 4
        }
      ]
    },
    {
      "cell_type": "code",
      "metadata": {
        "id": "S82v-d4HyLNN",
        "colab_type": "code",
        "colab": {
          "base_uri": "https://localhost:8080/",
          "height": 90
        },
        "outputId": "dbea4618-428f-43d8-e912-0976f67db6ec"
      },
      "source": [
        "y = x[:,3:]\n",
        "y"
      ],
      "execution_count": 5,
      "outputs": [
        {
          "output_type": "execute_result",
          "data": {
            "text/plain": [
              "array([[0.59865848],\n",
              "       [0.86617615],\n",
              "       [0.96990985],\n",
              "       [0.18340451]])"
            ]
          },
          "metadata": {
            "tags": []
          },
          "execution_count": 5
        }
      ]
    },
    {
      "cell_type": "markdown",
      "metadata": {
        "id": "XgCqOZOgwyHh",
        "colab_type": "text"
      },
      "source": [
        "### 1.3 Implement normal equation\n",
        "\n",
        "$ theta = (X^TX)^{-1}X^Ty$"
      ]
    },
    {
      "cell_type": "code",
      "metadata": {
        "id": "-oXcHDMgw-nD",
        "colab_type": "code",
        "colab": {
          "base_uri": "https://localhost:8080/",
          "height": 72
        },
        "outputId": "1953fbb6-ce09-422c-fb39-4261aac6f58c"
      },
      "source": [
        "from numpy import linalg\n",
        "xt = np.transpose(X)\n",
        "z = np.dot(xt,X)\n",
        "a = np.linalg.inv(z)\n",
        "b = np.dot(xt,y)\n",
        "theta = np.dot(a,b)\n",
        "theta"
      ],
      "execution_count": 6,
      "outputs": [
        {
          "output_type": "execute_result",
          "data": {
            "text/plain": [
              "array([[ 0.14732513],\n",
              "       [ 1.39096181],\n",
              "       [-1.01032224]])"
            ]
          },
          "metadata": {
            "tags": []
          },
          "execution_count": 6
        }
      ]
    },
    {
      "cell_type": "markdown",
      "metadata": {
        "id": "5ZoNhg6gm-Df",
        "colab_type": "text"
      },
      "source": [
        "## Task 2. Computation Network\n",
        "\n",
        "In this task, we'll build a computation network (just a series of computations) using numpy."
      ]
    },
    {
      "cell_type": "markdown",
      "metadata": {
        "id": "p9vCbi_GnREv",
        "colab_type": "text"
      },
      "source": [
        "### 2.1 Generate the data\n",
        "\n",
        "Generate (with random seed `42`):\n",
        "\n",
        "- **`X`**: `6 x 2 x 2` random array\n",
        "- **`W`**: `4 x 3` random array"
      ]
    },
    {
      "cell_type": "code",
      "metadata": {
        "id": "pB60iLEmnmZz",
        "colab_type": "code",
        "colab": {
          "base_uri": "https://localhost:8080/",
          "height": 326
        },
        "outputId": "6a282004-3a3d-4fe4-9c32-434fffc40976"
      },
      "source": [
        "np.random.seed(42)\n",
        "X = np.random.random((6,2,2))\n",
        "W = np.random.random((4,3))\n",
        "X"
      ],
      "execution_count": 7,
      "outputs": [
        {
          "output_type": "execute_result",
          "data": {
            "text/plain": [
              "array([[[0.37454012, 0.95071431],\n",
              "        [0.73199394, 0.59865848]],\n",
              "\n",
              "       [[0.15601864, 0.15599452],\n",
              "        [0.05808361, 0.86617615]],\n",
              "\n",
              "       [[0.60111501, 0.70807258],\n",
              "        [0.02058449, 0.96990985]],\n",
              "\n",
              "       [[0.83244264, 0.21233911],\n",
              "        [0.18182497, 0.18340451]],\n",
              "\n",
              "       [[0.30424224, 0.52475643],\n",
              "        [0.43194502, 0.29122914]],\n",
              "\n",
              "       [[0.61185289, 0.13949386],\n",
              "        [0.29214465, 0.36636184]]])"
            ]
          },
          "metadata": {
            "tags": []
          },
          "execution_count": 7
        }
      ]
    },
    {
      "cell_type": "markdown",
      "metadata": {
        "id": "5nZulC2Y4SbI",
        "colab_type": "text"
      },
      "source": [
        "### 2.2 Reshape the data\n",
        "\n",
        "Reshape $X$ to be `6 x 4`"
      ]
    },
    {
      "cell_type": "code",
      "metadata": {
        "id": "Y-RnLlfb4b6d",
        "colab_type": "code",
        "colab": {
          "base_uri": "https://localhost:8080/",
          "height": 126
        },
        "outputId": "5c9c66d8-d74b-4942-e7de-57ccc05be05f"
      },
      "source": [
        "X = X.reshape(6,4)\n",
        "X"
      ],
      "execution_count": 9,
      "outputs": [
        {
          "output_type": "execute_result",
          "data": {
            "text/plain": [
              "array([[0.37454012, 0.95071431, 0.73199394, 0.59865848],\n",
              "       [0.15601864, 0.15599452, 0.05808361, 0.86617615],\n",
              "       [0.60111501, 0.70807258, 0.02058449, 0.96990985],\n",
              "       [0.83244264, 0.21233911, 0.18182497, 0.18340451],\n",
              "       [0.30424224, 0.52475643, 0.43194502, 0.29122914],\n",
              "       [0.61185289, 0.13949386, 0.29214465, 0.36636184]])"
            ]
          },
          "metadata": {
            "tags": []
          },
          "execution_count": 9
        }
      ]
    },
    {
      "cell_type": "markdown",
      "metadata": {
        "id": "VR1pBmbCnnGE",
        "colab_type": "text"
      },
      "source": [
        "### 2.3 Create a function named `linear` that accepts X, W, and b\n",
        "\n",
        "Note: $b$ is just a number.\n",
        "\n",
        "It should return $XW + b$."
      ]
    },
    {
      "cell_type": "code",
      "metadata": {
        "id": "V8Jt_1k-n7Kl",
        "colab_type": "code",
        "colab": {
          "base_uri": "https://localhost:8080/",
          "height": 145
        },
        "outputId": "fa6a0ad0-cccd-416a-ceda-5c118ec97583"
      },
      "source": [
        "def linear(X,W,b):\n",
        "  return (np.dot(X,W)+b)\n",
        "\n",
        "b = int(input())\n",
        "linear(X,W,b)"
      ],
      "execution_count": 14,
      "outputs": [
        {
          "output_type": "stream",
          "text": [
            "5\n"
          ],
          "name": "stdout"
        },
        {
          "output_type": "execute_result",
          "data": {
            "text/plain": [
              "array([[6.67248407, 6.56020334, 5.65051822],\n",
              "       [6.00856359, 6.0612276 , 5.74239177],\n",
              "       [6.57110525, 6.83153974, 5.93832878],\n",
              "       [5.7733409 , 5.98751355, 5.33617193],\n",
              "       [5.94737268, 5.90463428, 5.34865193],\n",
              "       [5.87590672, 5.96663882, 5.44382095]])"
            ]
          },
          "metadata": {
            "tags": []
          },
          "execution_count": 14
        }
      ]
    },
    {
      "cell_type": "markdown",
      "metadata": {
        "id": "GSM5v4L5n7gT",
        "colab_type": "text"
      },
      "source": [
        "### 2.4 Implement the softmax function\n",
        "\n",
        "$$\n",
        "\\text{Softmax}(x_{i}) = \\frac{\\exp(x_i)}{\\sum_j \\exp(x_j)}\n",
        "$$\n",
        "\n",
        "It should take a vector and return a vector.\n"
      ]
    },
    {
      "cell_type": "code",
      "metadata": {
        "id": "QQGsRc-CpVoJ",
        "colab_type": "code",
        "colab": {
          "base_uri": "https://localhost:8080/",
          "height": 126
        },
        "outputId": "4b7aa607-3194-44b7-cde7-fda15e10c649"
      },
      "source": [
        "def softmax(X):\n",
        "  return (np.exp(X))/(np.sum(np.exp(X), axis = 0))\n",
        "\n",
        "softmax(X)"
      ],
      "execution_count": 17,
      "outputs": [
        {
          "output_type": "execute_result",
          "data": {
            "text/plain": [
              "array([[0.14622638, 0.26235637, 0.25237032, 0.16822322],\n",
              "       [0.11752305, 0.11850842, 0.12863606, 0.2198201 ],\n",
              "       [0.18341124, 0.20583236, 0.12390165, 0.24384754],\n",
              "       [0.23114807, 0.12537742, 0.14558041, 0.11105636],\n",
              "       [0.13629996, 0.17135645, 0.18695139, 0.12370039],\n",
              "       [0.1853913 , 0.11656899, 0.16256018, 0.13335239]])"
            ]
          },
          "metadata": {
            "tags": []
          },
          "execution_count": 17
        }
      ]
    },
    {
      "cell_type": "markdown",
      "metadata": {
        "id": "Kc-PjjS4qErI",
        "colab_type": "text"
      },
      "source": [
        "### 2.5 Implement the cross entropy loss\n",
        "\n",
        "$$ CE(y, \\hat y) = -\\sum_{i}y_{i}\\log \\hat y_{i} $$\n",
        "\n",
        "It takes two vectors as inputs and returns a single number."
      ]
    },
    {
      "cell_type": "code",
      "metadata": {
        "id": "eRVgxQOOsc0-",
        "colab_type": "code",
        "colab": {}
      },
      "source": [
        ""
      ],
      "execution_count": 0,
      "outputs": []
    },
    {
      "cell_type": "markdown",
      "metadata": {
        "id": "aq7Y3RvSskvi",
        "colab_type": "text"
      },
      "source": [
        "### 2.6 Combining Everything\n",
        "\n",
        "Do \n",
        "$$z = XW +b \\\\ \\hat y = softmax(z) \\\\ e = CE(y, \\hat y)\\\\ pred = argmax_i \\space \\hat y_{i}$$"
      ]
    },
    {
      "cell_type": "code",
      "metadata": {
        "id": "Ldid388puKKF",
        "colab_type": "code",
        "colab": {}
      },
      "source": [
        ""
      ],
      "execution_count": 0,
      "outputs": []
    },
    {
      "cell_type": "markdown",
      "metadata": {
        "id": "spr9pryA48Cb",
        "colab_type": "text"
      },
      "source": [
        "### 2.7 Save and read file\n",
        "\n",
        "Save $X$, $W$ and $b$ to a file using `savez` and then read back the matrices and recreate the above metrics."
      ]
    },
    {
      "cell_type": "markdown",
      "metadata": {
        "id": "LPiUPxgzR1KU",
        "colab_type": "text"
      },
      "source": [
        "# Task 3: Confusion Matrix"
      ]
    },
    {
      "cell_type": "markdown",
      "metadata": {
        "id": "A1LWuf6ARTR_",
        "colab_type": "text"
      },
      "source": [
        "#### Task 3.1 Set the random seed to 10"
      ]
    },
    {
      "cell_type": "code",
      "metadata": {
        "id": "jit7kjOURX6A",
        "colab_type": "code",
        "colab": {}
      },
      "source": [
        "np.random.seed(10)"
      ],
      "execution_count": 0,
      "outputs": []
    },
    {
      "cell_type": "markdown",
      "metadata": {
        "id": "IJBkf0r9RYd9",
        "colab_type": "text"
      },
      "source": [
        "#### Task 3.2 Create two random arrays 'actual' and 'predicted' of size 100 only containing 0 and 1"
      ]
    },
    {
      "cell_type": "code",
      "metadata": {
        "id": "U_EfeTwpvxGD",
        "colab_type": "code",
        "colab": {
          "base_uri": "https://localhost:8080/",
          "height": 128
        },
        "outputId": "c343d387-40be-4d87-e5a5-f06b4610d3f5"
      },
      "source": [
        "actual = np.random.choice([0,1], size = 100)\n",
        "actual\n",
        "   "
      ],
      "execution_count": 19,
      "outputs": [
        {
          "output_type": "execute_result",
          "data": {
            "text/plain": [
              "array([1, 1, 0, 1, 0, 1, 1, 0, 1, 1, 0, 1, 1, 0, 0, 1, 0, 0, 0, 0, 0, 1,\n",
              "       0, 0, 1, 1, 0, 0, 1, 0, 0, 1, 0, 0, 0, 1, 1, 0, 1, 1, 1, 1, 1, 0,\n",
              "       1, 0, 0, 0, 0, 1, 0, 1, 1, 1, 0, 1, 0, 1, 1, 0, 1, 0, 0, 1, 0, 0,\n",
              "       0, 1, 1, 0, 0, 0, 1, 0, 1, 1, 0, 1, 1, 0, 1, 0, 0, 0, 0, 0, 1, 0,\n",
              "       1, 0, 0, 0, 0, 0, 0, 0, 1, 1, 0, 1])"
            ]
          },
          "metadata": {
            "tags": []
          },
          "execution_count": 19
        }
      ]
    },
    {
      "cell_type": "code",
      "metadata": {
        "id": "q-HmKGOTG08H",
        "colab_type": "code",
        "colab": {
          "base_uri": "https://localhost:8080/",
          "height": 128
        },
        "outputId": "27b65e2d-17f7-40fd-a5de-906e625392d9"
      },
      "source": [
        "predicted = np.random.choice([0,1], size = 100)\n",
        "predicted"
      ],
      "execution_count": 20,
      "outputs": [
        {
          "output_type": "execute_result",
          "data": {
            "text/plain": [
              "array([1, 0, 0, 1, 0, 0, 1, 0, 0, 0, 0, 0, 0, 1, 1, 1, 0, 0, 0, 1, 1, 1,\n",
              "       1, 0, 1, 0, 1, 1, 1, 0, 0, 1, 1, 1, 0, 0, 0, 0, 0, 1, 1, 1, 1, 0,\n",
              "       1, 1, 0, 0, 0, 1, 0, 1, 1, 0, 1, 0, 0, 0, 0, 1, 1, 0, 0, 0, 1, 1,\n",
              "       1, 0, 0, 0, 0, 0, 0, 0, 0, 1, 0, 1, 1, 1, 0, 0, 0, 1, 0, 1, 0, 1,\n",
              "       1, 1, 1, 1, 1, 0, 1, 1, 1, 1, 1, 1])"
            ]
          },
          "metadata": {
            "tags": []
          },
          "execution_count": 20
        }
      ]
    },
    {
      "cell_type": "markdown",
      "metadata": {
        "id": "_ri5lVWlRigr",
        "colab_type": "text"
      },
      "source": [
        "#### Task 3.3 Calculate True Positive (TP), True Negative (TN), False Positive (FP), False Negative (FN)\n",
        "\n",
        "TP = Total number of times when value in actual array is 1 and corresponding value in predicted array is also 1.\n",
        "\n",
        "TN = Total number of times when value in actual array is 0 and corresponding value in predicted array is also 0.\n",
        "\n",
        "FP = Total number of times when value in actual array is 0 and corresponding value in predicted array is 1.\n",
        "\n",
        "FN = Total number of times when value in actual array is 1 and corresponding value in predicted array is 0.\n",
        "\n"
      ]
    },
    {
      "cell_type": "code",
      "metadata": {
        "id": "lsTLsLSKRhxC",
        "colab_type": "code",
        "colab": {
          "base_uri": "https://localhost:8080/",
          "height": 35
        },
        "outputId": "187c87c7-e2a3-4fa6-c3fe-6772e9098d0c"
      },
      "source": [
        "TP = np.sum(np.logical_and(predicted == 1, actual == 1))\n",
        "TN = np.sum(np.logical_and(predicted == 0, actual == 0))\n",
        "FP = np.sum(np.logical_and(predicted == 1, actual == 0))\n",
        "FN = np.sum(np.logical_and(predicted == 0, actual == 1))\n",
        "\n",
        "print(TP,TN, FP, FN)"
      ],
      "execution_count": 22,
      "outputs": [
        {
          "output_type": "stream",
          "text": [
            "24 29 26 21\n"
          ],
          "name": "stdout"
        }
      ]
    },
    {
      "cell_type": "markdown",
      "metadata": {
        "id": "OfbCI4ZnRrW2",
        "colab_type": "text"
      },
      "source": [
        "#### 3.4 Calculate accuracy, recall, precision and f1-score.\n",
        "\n",
        "* Accuracy = $\\frac{TP+TN}{TP+FP+FN+TN}$ \n",
        "  \n",
        "* Recall = $\\frac{TP}{TP+FN}$\n",
        "  \n",
        "* Precision = $\\frac{TP}{TP+FP}$\n",
        "  \n",
        "* F1 Score = 2$\\frac{(Recall * Precision)}{(Recall + Precision)}$\n"
      ]
    },
    {
      "cell_type": "code",
      "metadata": {
        "id": "jEL1_ib6RwDD",
        "colab_type": "code",
        "colab": {
          "base_uri": "https://localhost:8080/",
          "height": 35
        },
        "outputId": "8795acdc-0cea-49b6-d8cf-e9458a3385a1"
      },
      "source": [
        "Accuracy= (TP+TN)/(TP+FP+FN+TN)\n",
        "Recall= TP/(TP+FN)\n",
        "Precision= TP/(TP+FP)\n",
        "F1Score= 2*((Recall*Precision)/(Recall+Precision))\n",
        "F1Score"
      ],
      "execution_count": 23,
      "outputs": [
        {
          "output_type": "execute_result",
          "data": {
            "text/plain": [
              "0.505263157894737"
            ]
          },
          "metadata": {
            "tags": []
          },
          "execution_count": 23
        }
      ]
    },
    {
      "cell_type": "code",
      "metadata": {
        "id": "XgNGPYYmIVMa",
        "colab_type": "code",
        "colab": {}
      },
      "source": [
        ""
      ],
      "execution_count": 0,
      "outputs": []
    }
  ]
}